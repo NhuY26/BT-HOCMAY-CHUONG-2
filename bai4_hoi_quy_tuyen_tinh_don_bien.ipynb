{
  "nbformat": 4,
  "nbformat_minor": 0,
  "metadata": {
    "colab": {
      "provenance": [],
      "include_colab_link": true
    },
    "kernelspec": {
      "name": "python3",
      "display_name": "Python 3"
    },
    "language_info": {
      "name": "python"
    }
  },
  "cells": [
    {
      "cell_type": "markdown",
      "metadata": {
        "id": "view-in-github",
        "colab_type": "text"
      },
      "source": [
        "<a href=\"https://colab.research.google.com/github/NhuY26/BT-HOCMAY-CHUONG-2/blob/main/bai4_hoi_quy_tuyen_tinh_don_bien.ipynb\" target=\"_parent\"><img src=\"https://colab.research.google.com/assets/colab-badge.svg\" alt=\"Open In Colab\"/></a>"
      ]
    },
    {
      "cell_type": "code",
      "execution_count": 1,
      "metadata": {
        "id": "ukLwgZ8dOGKi"
      },
      "outputs": [],
      "source": [
        "import os\n",
        "import numpy as np\n",
        "from matplotlib import pyplot as plt"
      ]
    },
    {
      "cell_type": "code",
      "source": [
        "from google.colab import drive\n",
        "drive.mount('/content/drive')"
      ],
      "metadata": {
        "colab": {
          "base_uri": "https://localhost:8080/"
        },
        "id": "Av7gdrdzQRWx",
        "outputId": "e7f4be5b-d6b3-4d81-bc57-00c0f3526fc7"
      },
      "execution_count": 3,
      "outputs": [
        {
          "output_type": "stream",
          "name": "stdout",
          "text": [
            "Mounted at /content/drive\n"
          ]
        }
      ]
    },
    {
      "cell_type": "code",
      "source": [
        "def readData(folder, filename):\n",
        "    data = np.loadtxt(os.path.join(folder, filename), delimiter=',')\n",
        "    print('Original data shape', data.shape)\n",
        "    X = data[:,0]\n",
        "    print('X shape: ', X.shape)\n",
        "    y = data[:,1]\n",
        "    print('y shape: ', y.shape)\n",
        "    m = y.shape[0]\n",
        "    print('Number of training examples m = ', m)\n",
        "    X = np.stack([np.ones(m), X], axis=1)\n",
        "    print('Modified X shape: ', X.shape)\n",
        "    return X, y"
      ],
      "metadata": {
        "id": "JKnwHYvvOQIZ"
      },
      "execution_count": 2,
      "outputs": []
    },
    {
      "cell_type": "code",
      "source": [
        "def computeLoss(X, y, w):\n",
        "    m = y.shape[0]\n",
        "    J = 0\n",
        "    h = np.dot(X, w)\n",
        "    J = (1/(2*m))*np.sum(np.square(h - y))\n",
        "    return J"
      ],
      "metadata": {
        "id": "SDuiVp-FOVDQ"
      },
      "execution_count": 4,
      "outputs": []
    },
    {
      "cell_type": "code",
      "source": [
        "def gradientDescent(X, y, w, alpha, n):\n",
        "    m = y.shape[0]\n",
        "    J_history = []\n",
        "    w_optimal = w.copy()\n",
        "    print('w_optimal shape: ', w_optimal.shape)\n",
        "    for i in range(n):\n",
        "        w_optimal = w_optimal - (alpha/m)*(np.dot(X, w_optimal) - y).dot(X)\n",
        "        J_history.append(computeLoss(X, y, w_optimal))\n",
        "    return w_optimal, J_history"
      ],
      "metadata": {
        "id": "gXKCpLUjOYaq"
      },
      "execution_count": 5,
      "outputs": []
    },
    {
      "cell_type": "code",
      "source": [
        "def visualizeDataAndModel(X, y, w_optimal):\n",
        "    fig = plt.figure()\n",
        "    plt.plot(X[:,1], y, 'g^')\n",
        "    plt.plot(X[:, 1], np.dot(X, w_optimal), 'r-')\n",
        "    plt.legend(['Raw Data', 'Linear regression'])\n",
        "    plt.ylabel('Profit in $10,000')\n",
        "    plt.xlabel('Population of City in 10,000s')\n",
        "    plt.show()"
      ],
      "metadata": {
        "id": "zHhKrgzcOcqD"
      },
      "execution_count": 6,
      "outputs": []
    },
    {
      "cell_type": "code",
      "source": [
        "def main():\n",
        "    w = np.zeros(2)\n",
        "    n = 1500\n",
        "    alpha = 0.01\n",
        "    X, y = readData(\"/content/drive/MyDrive\", \"ex1data1.txt\")\n",
        "    w, J_history = gradientDescent(X, y, w, alpha, n)\n",
        "    print(\"Optimal weights are: \", w)\n",
        "    print(\"Loss function: \", J_history[-1])\n",
        "    visualizeDataAndModel(X, y, w)\n",
        "\n",
        "if __name__ == '__main__':\n",
        "    main()"
      ],
      "metadata": {
        "id": "r8e6cnwQO4sZ"
      },
      "execution_count": null,
      "outputs": []
    }
  ]
}